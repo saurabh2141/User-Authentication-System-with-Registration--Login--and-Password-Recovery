{
 "cells": [
  {
   "cell_type": "code",
   "execution_count": 111,
   "id": "c98bec72",
   "metadata": {},
   "outputs": [
    {
     "ename": "KeyboardInterrupt",
     "evalue": "Interrupted by user",
     "output_type": "error",
     "traceback": [
      "\u001b[1;31m---------------------------------------------------------------------------\u001b[0m",
      "\u001b[1;31mKeyboardInterrupt\u001b[0m                         Traceback (most recent call last)",
      "\u001b[1;32m~\\AppData\\Local\\Temp\\ipykernel_19340\\1806513858.py\u001b[0m in \u001b[0;36m<module>\u001b[1;34m\u001b[0m\n\u001b[0;32m     68\u001b[0m \u001b[1;33m\u001b[0m\u001b[0m\n\u001b[0;32m     69\u001b[0m \u001b[1;32mwhile\u001b[0m \u001b[1;32mTrue\u001b[0m\u001b[1;33m:\u001b[0m\u001b[1;33m\u001b[0m\u001b[1;33m\u001b[0m\u001b[0m\n\u001b[1;32m---> 70\u001b[1;33m     \u001b[0myn\u001b[0m\u001b[1;33m=\u001b[0m\u001b[0minput\u001b[0m\u001b[1;33m(\u001b[0m\u001b[1;34m'entyer y to Register a new account or eneter n to login enter b to break: '\u001b[0m\u001b[1;33m)\u001b[0m\u001b[1;33m\u001b[0m\u001b[1;33m\u001b[0m\u001b[0m\n\u001b[0m\u001b[0;32m     71\u001b[0m     \u001b[1;32mif\u001b[0m \u001b[0myn\u001b[0m\u001b[1;33m.\u001b[0m\u001b[0mlower\u001b[0m\u001b[1;33m(\u001b[0m\u001b[1;33m)\u001b[0m\u001b[1;33m==\u001b[0m\u001b[1;34m'y'\u001b[0m\u001b[1;33m:\u001b[0m\u001b[1;33m\u001b[0m\u001b[1;33m\u001b[0m\u001b[0m\n\u001b[0;32m     72\u001b[0m         \u001b[0mprint\u001b[0m\u001b[1;33m(\u001b[0m\u001b[0mreg\u001b[0m\u001b[1;33m(\u001b[0m\u001b[1;33m)\u001b[0m\u001b[1;33m)\u001b[0m\u001b[1;33m\u001b[0m\u001b[1;33m\u001b[0m\u001b[0m\n",
      "\u001b[1;32m~\\anaconda3\\lib\\site-packages\\ipykernel\\kernelbase.py\u001b[0m in \u001b[0;36mraw_input\u001b[1;34m(self, prompt)\u001b[0m\n\u001b[0;32m   1175\u001b[0m                 \u001b[1;34m\"raw_input was called, but this frontend does not support input requests.\"\u001b[0m\u001b[1;33m\u001b[0m\u001b[1;33m\u001b[0m\u001b[0m\n\u001b[0;32m   1176\u001b[0m             )\n\u001b[1;32m-> 1177\u001b[1;33m         return self._input_request(\n\u001b[0m\u001b[0;32m   1178\u001b[0m             \u001b[0mstr\u001b[0m\u001b[1;33m(\u001b[0m\u001b[0mprompt\u001b[0m\u001b[1;33m)\u001b[0m\u001b[1;33m,\u001b[0m\u001b[1;33m\u001b[0m\u001b[1;33m\u001b[0m\u001b[0m\n\u001b[0;32m   1179\u001b[0m             \u001b[0mself\u001b[0m\u001b[1;33m.\u001b[0m\u001b[0m_parent_ident\u001b[0m\u001b[1;33m[\u001b[0m\u001b[1;34m\"shell\"\u001b[0m\u001b[1;33m]\u001b[0m\u001b[1;33m,\u001b[0m\u001b[1;33m\u001b[0m\u001b[1;33m\u001b[0m\u001b[0m\n",
      "\u001b[1;32m~\\anaconda3\\lib\\site-packages\\ipykernel\\kernelbase.py\u001b[0m in \u001b[0;36m_input_request\u001b[1;34m(self, prompt, ident, parent, password)\u001b[0m\n\u001b[0;32m   1217\u001b[0m             \u001b[1;32mexcept\u001b[0m \u001b[0mKeyboardInterrupt\u001b[0m\u001b[1;33m:\u001b[0m\u001b[1;33m\u001b[0m\u001b[1;33m\u001b[0m\u001b[0m\n\u001b[0;32m   1218\u001b[0m                 \u001b[1;31m# re-raise KeyboardInterrupt, to truncate traceback\u001b[0m\u001b[1;33m\u001b[0m\u001b[1;33m\u001b[0m\u001b[0m\n\u001b[1;32m-> 1219\u001b[1;33m                 \u001b[1;32mraise\u001b[0m \u001b[0mKeyboardInterrupt\u001b[0m\u001b[1;33m(\u001b[0m\u001b[1;34m\"Interrupted by user\"\u001b[0m\u001b[1;33m)\u001b[0m \u001b[1;32mfrom\u001b[0m \u001b[1;32mNone\u001b[0m\u001b[1;33m\u001b[0m\u001b[1;33m\u001b[0m\u001b[0m\n\u001b[0m\u001b[0;32m   1220\u001b[0m             \u001b[1;32mexcept\u001b[0m \u001b[0mException\u001b[0m\u001b[1;33m:\u001b[0m\u001b[1;33m\u001b[0m\u001b[1;33m\u001b[0m\u001b[0m\n\u001b[0;32m   1221\u001b[0m                 \u001b[0mself\u001b[0m\u001b[1;33m.\u001b[0m\u001b[0mlog\u001b[0m\u001b[1;33m.\u001b[0m\u001b[0mwarning\u001b[0m\u001b[1;33m(\u001b[0m\u001b[1;34m\"Invalid Message:\"\u001b[0m\u001b[1;33m,\u001b[0m \u001b[0mexc_info\u001b[0m\u001b[1;33m=\u001b[0m\u001b[1;32mTrue\u001b[0m\u001b[1;33m)\u001b[0m\u001b[1;33m\u001b[0m\u001b[1;33m\u001b[0m\u001b[0m\n",
      "\u001b[1;31mKeyboardInterrupt\u001b[0m: Interrupted by user"
     ]
    }
   ],
   "source": [
    "password=[]\n",
    "e_mail=[]\n",
    "security=[]\n",
    "    \n",
    "\n",
    "import string\n",
    "def reg():\n",
    "    email=input('enter the email: ')\n",
    "    passw=input('enter the password: ')\n",
    "    security_question=input('what is your fathers name: ')\n",
    "    security.append(security_question)\n",
    "    \n",
    "    if '@' in email and '.' in email:\n",
    "        e_mail.append(email)\n",
    "    elif email in e_mail:\n",
    "        return 'email saved already'\n",
    "    else:\n",
    "        return 'enter valid email'\n",
    "    \n",
    "    if len(passw)<8:\n",
    "        return 'password length is small'\n",
    "    elif not any(i in string.punctuation for i in passw):\n",
    "        return 'special characters required'\n",
    "    elif not any(i.isalnum() for i in passw):\n",
    "        return 'should contain alphanumericals'\n",
    "    elif not any(i.isupper() for i in passw):\n",
    "        return 'should contain uppercase'\n",
    "    else:\n",
    "        password.append(passw)\n",
    "        return 'account created successfuly'\n",
    "\n",
    "        \n",
    "\n",
    "def login():\n",
    "    email=input('enter the email: ')\n",
    "    passw=input('enter the password: ')\n",
    "        \n",
    "    if email not in e_mail:\n",
    "        return 'enter valid e-mail address or register'\n",
    "    if passw not in password:\n",
    "            return 'enter correct password'\n",
    "    else:\n",
    "        return 'you are logged in'\n",
    "    \n",
    "\n",
    "def forgotpass():\n",
    "    check_email=input('enter the regestered email: ')\n",
    "    if check_email in e_mail:\n",
    "        security_check=('what is your fathers name: ')\n",
    "        if security_check in security:\n",
    "            new_pass=input('enter new password: ')\n",
    "            if len(new_pass)<8:\n",
    "                return 'password length is small'\n",
    "            elif not any(i in string.punctuation for i in new_pass):\n",
    "                return 'special characters required'\n",
    "            elif not any(i.isalnum() for i in new_pass):\n",
    "                return 'should contain alphanumericals'\n",
    "            elif not any(i.isupper() for i in new_pass):\n",
    "                return 'should contain uppercase'\n",
    "            else:\n",
    "                for k,v in res.items():\n",
    "                    if k==check_mail:\n",
    "                        res[k]=new_pass\n",
    "                return 'password updated successfuly'\n",
    "    \n",
    "    \n",
    "    \n",
    "\n",
    "while True:\n",
    "    yn=input('entyer y to Register a new account or eneter n to login enter b to break: ')\n",
    "    if yn.lower()=='y':\n",
    "        print(reg())\n",
    "    elif yn.lower()=='n':\n",
    "        fp=input('enter 1 if you forgot your password else enter 0')\n",
    "        if fp=='0':\n",
    "            print(login())\n",
    "        elif fp=='1': \n",
    "            print(forgotpass())\n",
    "    elif yn.lower()=='b':\n",
    "        break\n",
    "            \n",
    "\n",
    "    \n",
    "res=dict(zip(e_mail,password))\n",
    "print(res)\n",
    "    "
   ]
  },
  {
   "cell_type": "code",
   "execution_count": 109,
   "id": "1d840bbe",
   "metadata": {},
   "outputs": [],
   "source": [
    "res=dict(zip(e_mail,password))"
   ]
  },
  {
   "cell_type": "code",
   "execution_count": 110,
   "id": "41eba54d",
   "metadata": {},
   "outputs": [
    {
     "data": {
      "text/plain": [
       "{}"
      ]
     },
     "execution_count": 110,
     "metadata": {},
     "output_type": "execute_result"
    }
   ],
   "source": [
    "res"
   ]
  },
  {
   "cell_type": "code",
   "execution_count": null,
   "id": "a0b51f2c",
   "metadata": {},
   "outputs": [],
   "source": []
  }
 ],
 "metadata": {
  "kernelspec": {
   "display_name": "Python 3 (ipykernel)",
   "language": "python",
   "name": "python3"
  },
  "language_info": {
   "codemirror_mode": {
    "name": "ipython",
    "version": 3
   },
   "file_extension": ".py",
   "mimetype": "text/x-python",
   "name": "python",
   "nbconvert_exporter": "python",
   "pygments_lexer": "ipython3",
   "version": "3.9.13"
  }
 },
 "nbformat": 4,
 "nbformat_minor": 5
}
